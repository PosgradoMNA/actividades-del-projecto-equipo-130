{
  "nbformat": 4,
  "nbformat_minor": 0,
  "metadata": {
    "colab": {
      "name": "assignment01.ipynb",
      "provenance": [],
      "include_colab_link": true
    },
    "kernelspec": {
      "name": "python3",
      "display_name": "Python 3"
    },
    "language_info": {
      "name": "python"
    }
  },
  "cells": [
    {
      "cell_type": "markdown",
      "metadata": {
        "id": "view-in-github",
        "colab_type": "text"
      },
      "source": [
        "<a href=\"https://colab.research.google.com/github/PosgradoMNA/actividades-del-projecto-equipo-130/blob/main/Proyecto_Avance_02.ipynb\" target=\"_parent\"><img src=\"https://colab.research.google.com/assets/colab-badge.svg\" alt=\"Open In Colab\"/></a>"
      ]
    },
    {
      "cell_type": "markdown",
      "source": [
        "**Actividad del Proyecto de Equipo #130: Avance 02**\n",
        "\n",
        "Francisco Javier Ramírez Arias: A01316379 \n",
        "\n",
        "Jesus Angel Rincon Ruiz: A01793960\n",
        "\n",
        "**Metodología que se utilizara durante la realización del proyecto:** CRISP-DM (CRoss Industry Standard Process for Data Mining)\n",
        "\n",
        "**Pasos estándares de la metodología CRISP-DM:**\n",
        "\n",
        "**1.- Comprensión del Negocio:** Entender cúales son los requerimientos del proceso y objetivos desde la perspectiva del negocio.\n",
        "\n",
        "**2.- Comprensión de los datos:** Inicia con la identificación y recolección de los datos para posteriormente realizar un profundo análisis y entendimiento de ellos.\n",
        "\n",
        "**3.- Preparación de los datos:** Son todas las actividades cuyo objetivo es la obtención del set de datos final, con el que se va a trabajar a partir de la información inicial.\n",
        "\n",
        "**4.- Modelado:** Proceso que incluye la selección de la técnicas de modelado, generación del plan de pruebas y la construcción de los modelos.\n",
        "\n",
        "**5.- Evaluación:** Basado en los resultados se deberá seleccionar el modelo con mejor calidad en función de los objetivos del negocio y determinar los siguientes pasos.\n",
        "\n",
        "**6.- Despliegue o divulgación:** Proceso en el cual se presenta el plan de divulgación, monitoreo y mantenimiento, además, de la presentación final del proyecto y su revisón.\n",
        "\n",
        "\n"
      ],
      "metadata": {
        "id": "dNy5eKu7L1Du"
      }
    }
  ]
}