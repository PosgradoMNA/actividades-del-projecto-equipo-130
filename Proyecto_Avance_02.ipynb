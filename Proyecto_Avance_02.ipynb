{
  "nbformat": 4,
  "nbformat_minor": 0,
  "metadata": {
    "colab": {
      "name": "assignment01.ipynb",
      "provenance": [],
      "include_colab_link": true
    },
    "kernelspec": {
      "name": "python3",
      "display_name": "Python 3"
    },
    "language_info": {
      "name": "python"
    }
  },
  "cells": [
    {
      "cell_type": "markdown",
      "metadata": {
        "id": "view-in-github",
        "colab_type": "text"
      },
      "source": [
        "<a href=\"https://colab.research.google.com/github/PosgradoMNA/actividades-del-projecto-equipo-130/blob/main/Proyecto_Avance_02.ipynb\" target=\"_parent\"><img src=\"https://colab.research.google.com/assets/colab-badge.svg\" alt=\"Open In Colab\"/></a>"
      ]
    },
    {
      "cell_type": "markdown",
      "source": [
        "**Actividad del Proyecto de Equipo #130: Avance 02**\n",
        "\n",
        "Francisco Javier Ramírez Arias: A01316379 \n",
        "Jesus Angel Rincon Ruiz: A01793960\n",
        "\n",
        "**Metodología que se utilizara durante la realización del proyecto:** CRISP-DM (CRoss Industry Standard Process for Data Mining)\n",
        "\n",
        "**Pasos estándares de la metodología CRISP-DM:**\n",
        "1.- Comprensión del Negocio: Enfocado en entender cuales son los requerimientos del proceso y objetivos desde la perspectiva del negocio.\n",
        "\n"
      ],
      "metadata": {
        "id": "dNy5eKu7L1Du"
      }
    }
  ]
}